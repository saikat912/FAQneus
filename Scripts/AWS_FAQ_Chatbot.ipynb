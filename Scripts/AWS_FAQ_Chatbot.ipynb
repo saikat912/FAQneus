{
 "cells": [
  {
   "cell_type": "code",
   "execution_count": 1,
   "id": "9c10d727",
   "metadata": {},
   "outputs": [],
   "source": [
    "import os\n",
    "import numpy as np\n",
    "import pandas as pd\n",
    "from sklearn.feature_extraction.text import TfidfVectorizer\n",
    "from sklearn.metrics.pairwise import cosine_similarity"
   ]
  },
  {
   "cell_type": "code",
   "execution_count": 3,
   "id": "b5e88407",
   "metadata": {},
   "outputs": [
    {
     "data": {
      "text/html": [
       "<div>\n",
       "<style scoped>\n",
       "    .dataframe tbody tr th:only-of-type {\n",
       "        vertical-align: middle;\n",
       "    }\n",
       "\n",
       "    .dataframe tbody tr th {\n",
       "        vertical-align: top;\n",
       "    }\n",
       "\n",
       "    .dataframe thead th {\n",
       "        text-align: right;\n",
       "    }\n",
       "</style>\n",
       "<table border=\"1\" class=\"dataframe\">\n",
       "  <thead>\n",
       "    <tr style=\"text-align: right;\">\n",
       "      <th></th>\n",
       "      <th>Question</th>\n",
       "      <th>Answer</th>\n",
       "    </tr>\n",
       "  </thead>\n",
       "  <tbody>\n",
       "    <tr>\n",
       "      <th>0</th>\n",
       "      <td>What is Amazon Elastic Compute Cloud (Amazon E...</td>\n",
       "      <td>Amazon Elastic Compute Cloud (Amazon EC2) is a...</td>\n",
       "    </tr>\n",
       "    <tr>\n",
       "      <th>1</th>\n",
       "      <td>What can I do with Amazon EC2?</td>\n",
       "      <td>Just as Amazon Simple Storage Service (Amazon ...</td>\n",
       "    </tr>\n",
       "    <tr>\n",
       "      <th>2</th>\n",
       "      <td>How can I get started with Amazon EC2?</td>\n",
       "      <td>To sign up for Amazon EC2, click the “Sign up ...</td>\n",
       "    </tr>\n",
       "    <tr>\n",
       "      <th>3</th>\n",
       "      <td>Why am I asked to verify my phone number when ...</td>\n",
       "      <td>Amazon EC2 registration requires you to have a...</td>\n",
       "    </tr>\n",
       "    <tr>\n",
       "      <th>4</th>\n",
       "      <td>What can developers now do that they could not...</td>\n",
       "      <td>Until now, small developers did not have the c...</td>\n",
       "    </tr>\n",
       "  </tbody>\n",
       "</table>\n",
       "</div>"
      ],
      "text/plain": [
       "                                            Question  \\\n",
       "0  What is Amazon Elastic Compute Cloud (Amazon E...   \n",
       "1                     What can I do with Amazon EC2?   \n",
       "2             How can I get started with Amazon EC2?   \n",
       "3  Why am I asked to verify my phone number when ...   \n",
       "4  What can developers now do that they could not...   \n",
       "\n",
       "                                              Answer  \n",
       "0  Amazon Elastic Compute Cloud (Amazon EC2) is a...  \n",
       "1  Just as Amazon Simple Storage Service (Amazon ...  \n",
       "2  To sign up for Amazon EC2, click the “Sign up ...  \n",
       "3  Amazon EC2 registration requires you to have a...  \n",
       "4  Until now, small developers did not have the c...  "
      ]
     },
     "execution_count": 3,
     "metadata": {},
     "output_type": "execute_result"
    }
   ],
   "source": [
    "df = pd.read_csv('AWS_FAQ_Bot.csv')\n",
    "df.head()"
   ]
  },
  {
   "cell_type": "code",
   "execution_count": 4,
   "id": "23d87547",
   "metadata": {},
   "outputs": [
    {
     "name": "stdout",
     "output_type": "stream",
     "text": [
      "<class 'pandas.core.frame.DataFrame'>\n",
      "RangeIndex: 671 entries, 0 to 670\n",
      "Data columns (total 2 columns):\n",
      " #   Column    Non-Null Count  Dtype \n",
      "---  ------    --------------  ----- \n",
      " 0   Question  670 non-null    object\n",
      " 1   Answer    654 non-null    object\n",
      "dtypes: object(2)\n",
      "memory usage: 10.6+ KB\n"
     ]
    }
   ],
   "source": [
    "df.info()"
   ]
  },
  {
   "cell_type": "code",
   "execution_count": 5,
   "id": "cd0bfcc3",
   "metadata": {},
   "outputs": [
    {
     "data": {
      "text/plain": [
       "Question     1\n",
       "Answer      17\n",
       "dtype: int64"
      ]
     },
     "execution_count": 5,
     "metadata": {},
     "output_type": "execute_result"
    }
   ],
   "source": [
    "df.isnull().sum()"
   ]
  },
  {
   "cell_type": "code",
   "execution_count": 6,
   "id": "9c1ee9d8",
   "metadata": {},
   "outputs": [],
   "source": [
    "df.dropna(inplace=True)"
   ]
  },
  {
   "cell_type": "code",
   "execution_count": 7,
   "id": "0d3a30cd",
   "metadata": {},
   "outputs": [
    {
     "data": {
      "text/plain": [
       "Question    0\n",
       "Answer      0\n",
       "dtype: int64"
      ]
     },
     "execution_count": 7,
     "metadata": {},
     "output_type": "execute_result"
    }
   ],
   "source": [
    "df.isnull().sum()"
   ]
  },
  {
   "cell_type": "code",
   "execution_count": 8,
   "id": "0e741104",
   "metadata": {},
   "outputs": [
    {
     "name": "stdout",
     "output_type": "stream",
     "text": [
      "<class 'pandas.core.frame.DataFrame'>\n",
      "Int64Index: 653 entries, 0 to 670\n",
      "Data columns (total 2 columns):\n",
      " #   Column    Non-Null Count  Dtype \n",
      "---  ------    --------------  ----- \n",
      " 0   Question  653 non-null    object\n",
      " 1   Answer    653 non-null    object\n",
      "dtypes: object(2)\n",
      "memory usage: 15.3+ KB\n"
     ]
    }
   ],
   "source": [
    "df.info()"
   ]
  },
  {
   "cell_type": "code",
   "execution_count": 9,
   "id": "7f567f1b",
   "metadata": {},
   "outputs": [
    {
     "data": {
      "text/plain": [
       "TfidfVectorizer()"
      ]
     },
     "execution_count": 9,
     "metadata": {},
     "output_type": "execute_result"
    }
   ],
   "source": [
    "vec = TfidfVectorizer()\n",
    "vec.fit(np.concatenate((df['Question'], df['Answer'])))"
   ]
  },
  {
   "cell_type": "code",
   "execution_count": 10,
   "id": "78109448",
   "metadata": {},
   "outputs": [
    {
     "data": {
      "text/plain": [
       "array(['00', '000', '00z', ..., 'zonal', 'zone', 'zones'], dtype=object)"
      ]
     },
     "execution_count": 10,
     "metadata": {},
     "output_type": "execute_result"
    }
   ],
   "source": [
    "feature_col = vec.get_feature_names_out()\n",
    "feature_col"
   ]
  },
  {
   "cell_type": "code",
   "execution_count": 11,
   "id": "0e767d23",
   "metadata": {},
   "outputs": [
    {
     "data": {
      "text/plain": [
       "array(['active', 'activities', 'activity', 'actor', 'actual', 'actually',\n",
       "       'adapter', 'add', 'added', 'adding', 'addition', 'additional',\n",
       "       'additionally', 'additions', 'address', 'addressed', 'addresses',\n",
       "       'adds', 'adequate', 'adjust', 'adjusted', 'adjusting',\n",
       "       'administration', 'administrative', 'administrator', 'adoption',\n",
       "       'advance', 'advanced', 'advancements', 'advances', 'advantage',\n",
       "       'advantages', 'advertised', 'advisory', 'aerospike', 'aes',\n",
       "       'affect', 'affected', 'afi', 'afis', 'after', 'again', 'against',\n",
       "       'aggregate', 'aggregated', 'aggregates', 'agreement', 'ahead',\n",
       "       'ai', 'aka', 'alarm', 'alarms', 'alerts', 'algorithm',\n",
       "       'algorithmic', 'algorithms', 'alias', 'alive', 'all', 'allocate',\n",
       "       'allocated', 'allocation', 'allow', 'allowed', 'allowing',\n",
       "       'allows', 'alone', 'along', 'alongside', 'already', 'also',\n",
       "       'alternate', 'alternatively', 'although', 'always', 'am', 'amazon',\n",
       "       'amazonaws', 'america', 'ami', 'amis', 'among', 'amount',\n",
       "       'amounts', 'an', 'analogous', 'analysis', 'analysts', 'analytics',\n",
       "       'and', 'another', 'answer', 'answered', 'answers', 'anticipate',\n",
       "       'any', 'anycast', 'anyone', 'anything', 'apache', 'apex', 'api',\n",
       "       'apis', 'appear', 'appliance', 'applicability', 'applicable',\n",
       "       'application', 'applications', 'applied', 'applies', 'apply',\n",
       "       'applying', 'approach', 'approaching', 'appropriate',\n",
       "       'approximately', 'apps', 'appservers', 'ar', 'arabic', 'arbitrary',\n",
       "       'architects', 'architecture', 'architectures', 'archive',\n",
       "       'archiving', 'are', 'areas', 'armenian', 'around', 'array',\n",
       "       'arrive', 'arriving', 'artifacts', 'artificial', 'as', 'asia',\n",
       "       'aside', 'ask', 'asked', 'assign', 'assigned', 'assigning',\n",
       "       'assocation', 'associate', 'associated', 'associates',\n",
       "       'associating', 'association', 'assume', 'assumes', 'assumptions',\n",
       "       'at', 'attach', 'attached', 'attaching', 'attachment',\n",
       "       'attachments', 'attachvolume', 'attempt', 'attributes', 'audience',\n",
       "       'audio', 'auditing', 'auri', 'auris', 'authcode', 'authenticate',\n",
       "       'authenticated', 'authentication', 'authoritative', 'authority',\n",
       "       'authorization', 'authorized', 'auto', 'autocomplete', 'automated',\n",
       "       'automates', 'automatic', 'automatically', 'automation',\n",
       "       'autonomous', 'availability', 'available', 'average', 'avoid',\n",
       "       'avx', 'avx2', 'awareness', 'away', 'aws', 'awsec2', 'az', 'b022',\n",
       "       'b147', 'b300', 'back', 'backed', 'backend', 'background',\n",
       "       'backing', 'backup', 'backups', 'backward', 'bad', 'balance',\n",
       "       'balancer', 'balancers', 'balances', 'balancing', 'bandwidth',\n",
       "       'bank', 'banking', 'bare', 'base', 'based', 'baseline', 'bases',\n",
       "       'basic', 'basis', 'basque', 'batch', 'batches', 'batching', 'be',\n",
       "       'beanstalk', 'because', 'become', 'becomes', 'been', 'before',\n",
       "       'begin', 'beginning', 'behalf', 'behave', 'behavior', 'behaviors',\n",
       "       'behind', 'being', 'belong', 'belonging', 'below', 'benchmark',\n",
       "       'benchmarks', 'benefit', 'benefiting', 'benefits', 'best',\n",
       "       'better', 'between', 'beyond', 'bg', 'bias', 'biasing', 'big',\n",
       "       'bigger', 'biggest', 'bill', 'billable', 'billed', 'billing',\n",
       "       'bind', 'bios', 'bisection', 'bit', 'bits', 'blkfront', 'block',\n",
       "       'blocks', 'blog', 'blue', 'board', 'body', 'book', 'boolean',\n",
       "       'boost', 'boosting', 'boostrapping', 'boot', 'booted', 'booting',\n",
       "       'bootstrapping', 'both', 'boto', 'boto3v1', 'botocorev1', 'bought',\n",
       "       'bound', 'box', 'bring', 'broad', 'broader', 'browse', 'bucket',\n",
       "       'buckets', 'buffers', 'build', 'builder', 'building'], dtype=object)"
      ]
     },
     "execution_count": 11,
     "metadata": {},
     "output_type": "execute_result"
    }
   ],
   "source": [
    "feature_col[200:500]"
   ]
  },
  {
   "cell_type": "code",
   "execution_count": 12,
   "id": "d251d84e",
   "metadata": {},
   "outputs": [
    {
     "data": {
      "text/plain": [
       "3421"
      ]
     },
     "execution_count": 12,
     "metadata": {},
     "output_type": "execute_result"
    }
   ],
   "source": [
    "len(feature_col)"
   ]
  },
  {
   "cell_type": "code",
   "execution_count": 13,
   "id": "f8999d88",
   "metadata": {},
   "outputs": [
    {
     "data": {
      "text/plain": [
       "<653x3421 sparse matrix of type '<class 'numpy.float64'>'\n",
       "\twith 6475 stored elements in Compressed Sparse Row format>"
      ]
     },
     "execution_count": 13,
     "metadata": {},
     "output_type": "execute_result"
    }
   ],
   "source": [
    "df_vectors = vec.transform(df['Question'])\n",
    "df_vectors"
   ]
  },
  {
   "cell_type": "code",
   "execution_count": 14,
   "id": "1a4518b0",
   "metadata": {},
   "outputs": [],
   "source": [
    "from re import T"
   ]
  },
  {
   "cell_type": "code",
   "execution_count": 15,
   "id": "673aac76",
   "metadata": {},
   "outputs": [
    {
     "name": "stdout",
     "output_type": "stream",
     "text": [
      "Hello, welcome to Learnbay ChatbTo, this is a simple chatbot which can answer the question\n",
      "Ask me anything related to AWS\n",
      "Tell me more about AWS ? As i am new in this technology\n",
      "Response from chatbot is : There is a good chance that you won’t need to make any system changes to handle the new format. If you only use the console to manage AWS resources, you might not be impacted at all, but you should still update your settings to use the longer ID format as soon as possible. If you interact with AWS resources via APIs, SDKs, or the AWS CLI, you might be impacted, depending on whether your software makes assumptions about the ID format when validating or persisting resource IDs. If this is the case, you might need to update your systems to handle the new format.\n",
      "Some failure modes could include:\n",
      "If your systems use regular expressions to validate the ID format, you might error if a longer format is encountered.\n",
      "If there are expectations about the ID length in your database schemas, you might be unable to store a longer ID.\n",
      "tell me about S3\n",
      "Response from chatbot is : The CloudWatch metric for CPU utilization will report 100% utilization if the instance bursts so much that it exceeds its available CPU resources during that CloudWatch monitored minute. CloudWatch reporting 100% CPU utilization is your signal that you should consider scaling – manually or via Auto Scaling – up to a larger instance type or scale out to multiple Micro instances.\n",
      "What is elastic search service ?\n",
      "Response from chatbot is : A search instance is a single search engine in \n",
      "the cloud\n",
      " that indexes documents and responds to search requests. It has a finite amount of RAM and CPU resources for indexing data and processing requests.\n",
      "How can I get started with Amazon EC2?\n",
      "Response from chatbot is : To sign up for Amazon EC2, click the “Sign up for This Web Service” button on the Amazon EC2 detail page. You must have an Amazon Web Services account to access this service; if you do not already have one, you will be prompted to create one when you begin the Amazon EC2 sign-up process. After signing up, please refer to the \n",
      "Amazon EC2 documentation\n",
      ", which includes our Getting Started Guide.\n",
      "Do I run systems in Amazon EC2 environment?\n",
      "Response from chatbot is : Once you have set up your account and select or create your AMIs, you are ready to boot your instance. You can start your AMI on any number of On-Demand instances by using the RunInstances API call. You simply need to indicate how many instances you wish to launch. If you wish to run more than 20 On-Demand instances, complete the \n",
      "Amazon EC2 instance request form\n",
      ".\n",
      "If Amazon EC2 is able to fulfill your request, RunInstances will return success, and we will start launching your instances. You can check on the status of your instances using the DescribeInstances API call. You can also programmatically terminate any number of your instances using the TerminateInstances API call.\n",
      "If you have a running instance using an Amazon EBS boot partition, you can also use the StopInstances API call to release the compute resources but preserve the data on the boot partition. You can use the StartInstances API when you are ready to restart the associated instance with the Amazon EBS boot partition.\n",
      "In addition, you have the option to use Spot Instances to reduce your computing costs when you have flexibility in when your applications can run. Read more about Spot Instances for a more detailed explanation on how \n",
      "Spot Instances\n",
      " work.\n",
      "If you prefer, you can also perform all these actions from the \n",
      "AWS Management Console\n",
      " or through the command line using our command line tools, which have been implemented with this web service API.\n",
      "can you explain more about AWS ?\n",
      "Response from chatbot is : For more information on security on AWS please refer to our \n",
      "Amazon Web Services: Overview of Security Processes\n",
      " white paper and to our \n",
      "Amazon EC2 running Windows Security Guide\n",
      ".\n",
      "Who will win the election in 2024?\n",
      "Response from chatbot is : P3 instances with their high computational performance will benefit users in artificial intelligence (AI), machine learning (ML), deep learning (DL) and high performance computing (HPC) applications. Users includes data scientists, data architects, data analysts, scientific researchers, ML engineers, IT managers and software developers. Key industries include transportation, energy/oil & gas, financial services (banking, insurance), healthcare, pharmaceutical, sciences, IT, retail, manufacturing, high-tech, transportation, government, academia, among many others.\n",
      "stop\n"
     ]
    }
   ],
   "source": [
    "print(f\"Hello, welcome to Learnbay Chatbot, this is a simple chatbot which can answer the question\")\n",
    "print(\"Ask me anything related to AWS\")\n",
    "\n",
    "while True:\n",
    "    input_question = input()\n",
    "    \n",
    "    if input_question == 'stop':\n",
    "        break\n",
    "        \n",
    "    input_question_vec = vec.transform([input_question])\n",
    "    similarity = cosine_similarity(input_question_vec, df_vectors)\n",
    "    closest_ans = np.argmax(similarity, axis = 1)\n",
    "    print(f\"Response from chatbot is : {df['Answer'].iloc[closest_ans].values[0]}\")"
   ]
  },
  {
   "cell_type": "code",
   "execution_count": null,
   "id": "940df0c3",
   "metadata": {},
   "outputs": [],
   "source": []
  },
  {
   "cell_type": "code",
   "execution_count": null,
   "id": "04ba2db6",
   "metadata": {},
   "outputs": [],
   "source": []
  },
  {
   "cell_type": "code",
   "execution_count": null,
   "id": "c1d77f53",
   "metadata": {},
   "outputs": [],
   "source": []
  },
  {
   "cell_type": "code",
   "execution_count": null,
   "id": "caec3455",
   "metadata": {},
   "outputs": [],
   "source": []
  },
  {
   "cell_type": "code",
   "execution_count": null,
   "id": "ca100e47",
   "metadata": {},
   "outputs": [],
   "source": []
  },
  {
   "cell_type": "code",
   "execution_count": null,
   "id": "40d77f90",
   "metadata": {},
   "outputs": [],
   "source": []
  }
 ],
 "metadata": {
  "kernelspec": {
   "display_name": "Python 3 (ipykernel)",
   "language": "python",
   "name": "python3"
  },
  "language_info": {
   "codemirror_mode": {
    "name": "ipython",
    "version": 3
   },
   "file_extension": ".py",
   "mimetype": "text/x-python",
   "name": "python",
   "nbconvert_exporter": "python",
   "pygments_lexer": "ipython3",
   "version": "3.9.13"
  }
 },
 "nbformat": 4,
 "nbformat_minor": 5
}
